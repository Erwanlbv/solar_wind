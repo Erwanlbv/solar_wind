{
 "cells": [
  {
   "cell_type": "code",
   "execution_count": 1,
   "metadata": {},
   "outputs": [
    {
     "name": "stdout",
     "output_type": "stream",
     "text": [
      "/Users/erwan/Programmes/2022 Datacamp/solar_wind\n"
     ]
    }
   ],
   "source": [
    "%cd .."
   ]
  },
  {
   "attachments": {},
   "cell_type": "markdown",
   "metadata": {},
   "source": [
    "#### Tests Régression Logistique sur deux pré-traitements de données différents\n",
    "- __But__ : Conclure sur l'importante de certaines données sur les performances du modèle\n",
    "- Pré-traitement de beta_light_1, comparaison entre avec et sans r_small et l_small\n",
    "- Pas de ré-échantillonnage des données\n",
    "- Le predict utilise un rolling"
   ]
  },
  {
   "cell_type": "code",
   "execution_count": 2,
   "metadata": {},
   "outputs": [],
   "source": [
    "import pandas as pd\n",
    "import numpy as np\n",
    "import matplotlib.pyplot as plt\n",
    "\n",
    "from sklearn.metrics import log_loss, classification_report\n",
    "\n",
    "from problem import get_train_data, get_test_data\n",
    "from problem import turn_prediction_to_event_list\n",
    "\n",
    "# Fonction perso\n",
    "from display import plot_event, multiple_plots, consecutive_plots, display_timeline, show_densities\n",
    "from display import display_res\n"
   ]
  },
  {
   "cell_type": "code",
   "execution_count": 3,
   "metadata": {},
   "outputs": [],
   "source": [
    "def fe_data_v1(data):\n",
    "    \"\"\"\n",
    "    Prend data_train['Beta'] au format brut (hors seuillabge ) et renvoie la série avec les traitements\n",
    "    définis ci-dessous\n",
    "    \"\"\"\n",
    "    # Préparation des données \n",
    "    # Moyenne mobile faible sur les valeurs pour espérer réduire dors et déjà le bruit\n",
    "    seuil = 50\n",
    "    var_s = data['Beta'].map(lambda x: min(x, seuil))\n",
    "    var_s = var_s.rolling('30 min', center=True).mean()\n",
    "\n",
    "    var_small_s = var_s.rolling('4h', center=True).mean()\n",
    "    var_long_s = var_s.rolling('4 d', center=True).mean()\n",
    "\n",
    "    var_l_small_s = var_s.rolling('3h').mean()\n",
    "    var_r_small_s = var_s.iloc[::-1].rolling('3h').mean().iloc[::-1]\n",
    "\n",
    "\n",
    "    df = pd.DataFrame({})\n",
    "    df['base'] = var_s.copy() \n",
    "\n",
    "    df['l_small_avg'] = var_l_small_s\n",
    "    df['r_small_avg'] = var_r_small_s\n",
    "\n",
    "    df['diff-mean'] = df['r_small_avg'] - df['l_small_avg']\n",
    "    df['mean-ratio'] = var_small_s / var_long_s # valeurs centrées\n",
    "\n",
    "    return df\n",
    "\n",
    "def fe_data_v2(data):\n",
    "\n",
    "    seuil = 50\n",
    "    var_s = data['Beta'].map(lambda x: min(x, seuil))\n",
    "    var_s = var_s.rolling('30 min', center=True).mean()\n",
    "\n",
    "    # Étude des évolutions avec les calculs d'écarts centrés\n",
    "    # Petite moyenne, grande moyenne, mean-ratio et écart type sur petite moyenne \n",
    "    var_small_s = var_s.rolling('5 h', center=True).mean()\n",
    "    var_long_s = var_s.rolling('4 d', center=True).mean()\n",
    "\n",
    "    df = pd.DataFrame({})\n",
    "    df['base'] = var_s\n",
    "    df['small_avg'] = var_small_s.copy()\n",
    "    df['global_avg'] = var_long_s.copy()\n",
    "\n",
    "    df['mean-ratio'] = df['small_avg'] / df['global_avg']\n",
    "    df['std'] = df['small_avg'].rolling('20 h', center=True).std().fillna(method='bfill')\n",
    "\n",
    "    return df"
   ]
  },
  {
   "cell_type": "code",
   "execution_count": 4,
   "metadata": {},
   "outputs": [],
   "source": [
    "# Données\n",
    "data_train, labels_train = get_train_data()\n",
    "data_test, labels_test = get_test_data()\n",
    "\n",
    "# Évenements\n",
    "events = turn_prediction_to_event_list(labels_train)\n",
    "no_events = turn_prediction_to_event_list(labels_train == 0)"
   ]
  },
  {
   "cell_type": "code",
   "execution_count": 5,
   "metadata": {},
   "outputs": [],
   "source": [
    "fe_data_train_v1 = fe_data_v1(data_train)\n",
    "fe_data_test_v1 = fe_data_v1(data_test)\n",
    "\n",
    "fe_data_train_v2 = fe_data_v2(data_train)\n",
    "fe_data_test_v2 = fe_data_v2(data_test)"
   ]
  },
  {
   "cell_type": "code",
   "execution_count": 6,
   "metadata": {},
   "outputs": [
    {
     "data": {
      "text/html": [
       "<div>\n",
       "<style scoped>\n",
       "    .dataframe tbody tr th:only-of-type {\n",
       "        vertical-align: middle;\n",
       "    }\n",
       "\n",
       "    .dataframe tbody tr th {\n",
       "        vertical-align: top;\n",
       "    }\n",
       "\n",
       "    .dataframe thead th {\n",
       "        text-align: right;\n",
       "    }\n",
       "</style>\n",
       "<table border=\"1\" class=\"dataframe\">\n",
       "  <thead>\n",
       "    <tr style=\"text-align: right;\">\n",
       "      <th></th>\n",
       "      <th>base</th>\n",
       "      <th>l_small_avg</th>\n",
       "      <th>r_small_avg</th>\n",
       "      <th>diff-mean</th>\n",
       "      <th>mean-ratio</th>\n",
       "    </tr>\n",
       "  </thead>\n",
       "  <tbody>\n",
       "    <tr>\n",
       "      <th>1997-10-01 00:00:00</th>\n",
       "      <td>8.395598</td>\n",
       "      <td>8.395598</td>\n",
       "      <td>6.308409</td>\n",
       "      <td>-2.087189</td>\n",
       "      <td>14.461996</td>\n",
       "    </tr>\n",
       "    <tr>\n",
       "      <th>1997-10-01 00:10:00</th>\n",
       "      <td>9.571798</td>\n",
       "      <td>8.983698</td>\n",
       "      <td>5.877799</td>\n",
       "      <td>-3.105899</td>\n",
       "      <td>13.486491</td>\n",
       "    </tr>\n",
       "  </tbody>\n",
       "</table>\n",
       "</div>"
      ],
      "text/plain": [
       "                         base  l_small_avg  r_small_avg  diff-mean  mean-ratio\n",
       "1997-10-01 00:00:00  8.395598     8.395598     6.308409  -2.087189   14.461996\n",
       "1997-10-01 00:10:00  9.571798     8.983698     5.877799  -3.105899   13.486491"
      ]
     },
     "execution_count": 6,
     "metadata": {},
     "output_type": "execute_result"
    }
   ],
   "source": [
    "fe_data_train_v1.head(2)"
   ]
  },
  {
   "cell_type": "code",
   "execution_count": 7,
   "metadata": {},
   "outputs": [
    {
     "data": {
      "text/html": [
       "<div>\n",
       "<style scoped>\n",
       "    .dataframe tbody tr th:only-of-type {\n",
       "        vertical-align: middle;\n",
       "    }\n",
       "\n",
       "    .dataframe tbody tr th {\n",
       "        vertical-align: top;\n",
       "    }\n",
       "\n",
       "    .dataframe thead th {\n",
       "        text-align: right;\n",
       "    }\n",
       "</style>\n",
       "<table border=\"1\" class=\"dataframe\">\n",
       "  <thead>\n",
       "    <tr style=\"text-align: right;\">\n",
       "      <th></th>\n",
       "      <th>base</th>\n",
       "      <th>small_avg</th>\n",
       "      <th>global_avg</th>\n",
       "      <th>mean-ratio</th>\n",
       "      <th>std</th>\n",
       "    </tr>\n",
       "  </thead>\n",
       "  <tbody>\n",
       "    <tr>\n",
       "      <th>2008-01-01 00:00:00</th>\n",
       "      <td>0.903901</td>\n",
       "      <td>0.837953</td>\n",
       "      <td>1.996491</td>\n",
       "      <td>0.419713</td>\n",
       "      <td>0.139008</td>\n",
       "    </tr>\n",
       "    <tr>\n",
       "      <th>2008-01-01 00:10:00</th>\n",
       "      <td>0.895658</td>\n",
       "      <td>0.862736</td>\n",
       "      <td>1.990628</td>\n",
       "      <td>0.433399</td>\n",
       "      <td>0.144529</td>\n",
       "    </tr>\n",
       "  </tbody>\n",
       "</table>\n",
       "</div>"
      ],
      "text/plain": [
       "                         base  small_avg  global_avg  mean-ratio       std\n",
       "2008-01-01 00:00:00  0.903901   0.837953    1.996491    0.419713  0.139008\n",
       "2008-01-01 00:10:00  0.895658   0.862736    1.990628    0.433399  0.144529"
      ]
     },
     "execution_count": 7,
     "metadata": {},
     "output_type": "execute_result"
    }
   ],
   "source": [
    "fe_data_test_v2.head(2)"
   ]
  },
  {
   "cell_type": "code",
   "execution_count": 8,
   "metadata": {},
   "outputs": [],
   "source": [
    "from sklearn.linear_model import LogisticRegression\n",
    "from sklearn.ensemble import HistGradientBoostingClassifier"
   ]
  },
  {
   "cell_type": "code",
   "execution_count": 9,
   "metadata": {},
   "outputs": [],
   "source": [
    "log_model = LogisticRegression(\n",
    "    penalty=\"l2\",\n",
    "    max_iter=1000,\n",
    "    random_state=0,\n",
    "    solver='lbfgs'\n",
    ")"
   ]
  },
  {
   "cell_type": "code",
   "execution_count": 10,
   "metadata": {},
   "outputs": [
    {
     "name": "stdout",
     "output_type": "stream",
     "text": [
      "Index(['base', 'l_small_avg', 'r_small_avg'], dtype='object')\n",
      "Loss : 0.14240060109566596\n",
      "              precision    recall  f1-score   support\n",
      "\n",
      "           0       0.94      1.00      0.97    191755\n",
      "           1       0.98      0.14      0.25     13819\n",
      "\n",
      "    accuracy                           0.94    205574\n",
      "   macro avg       0.96      0.57      0.61    205574\n",
      "weighted avg       0.94      0.94      0.92    205574\n",
      "\n",
      "ev_prec 0.2222222222222222\n",
      "ev_rec 0.03738317757009346\n",
      "-------------\n"
     ]
    }
   ],
   "source": [
    "# Bdd 1\n",
    "print(fe_data_train_v1.drop(columns=['diff-mean', 'mean-ratio']).columns)\n",
    "log_model.fit(fe_data_train_v1.drop(columns=['diff-mean', 'mean-ratio']), labels_train)\n",
    "\n",
    "display_res(fe_data_test_v1.drop(columns=['diff-mean', 'mean-ratio']), labels_test, smooth=False, models=[log_model])"
   ]
  },
  {
   "cell_type": "code",
   "execution_count": 11,
   "metadata": {},
   "outputs": [
    {
     "name": "stdout",
     "output_type": "stream",
     "text": [
      "Index(['base', 'small_avg', 'global_avg', 'mean-ratio', 'std'], dtype='object')\n",
      "Loss : 0.14341102610252973\n",
      "              precision    recall  f1-score   support\n",
      "\n",
      "           0       0.94      1.00      0.97    191755\n",
      "           1       0.91      0.13      0.23     13819\n",
      "\n",
      "    accuracy                           0.94    205574\n",
      "   macro avg       0.93      0.57      0.60    205574\n",
      "weighted avg       0.94      0.94      0.92    205574\n",
      "\n",
      "ev_prec 0.19999999999999996\n",
      "ev_rec 0.028037383177570097\n",
      "-------------\n"
     ]
    }
   ],
   "source": [
    "# Bdd 2 \n",
    "print(fe_data_train_v2.columns)\n",
    "log_model.fit(fe_data_train_v2, labels_train)\n",
    "\n",
    "\n",
    "display_res(fe_data_test_v2, labels_test, smooth=False, models=[log_model])"
   ]
  },
  {
   "cell_type": "code",
   "execution_count": null,
   "metadata": {},
   "outputs": [],
   "source": []
  }
 ],
 "metadata": {
  "kernelspec": {
   "display_name": "ml_env",
   "language": "python",
   "name": "python3"
  },
  "language_info": {
   "codemirror_mode": {
    "name": "ipython",
    "version": 3
   },
   "file_extension": ".py",
   "mimetype": "text/x-python",
   "name": "python",
   "nbconvert_exporter": "python",
   "pygments_lexer": "ipython3",
   "version": "3.9.15 (main, Nov 24 2022, 08:29:02) \n[Clang 14.0.6 ]"
  },
  "orig_nbformat": 4,
  "vscode": {
   "interpreter": {
    "hash": "c43a034baed6525e7d4b54734a34a446a6181c1bda94e67cd174d3b725a42644"
   }
  }
 },
 "nbformat": 4,
 "nbformat_minor": 2
}
