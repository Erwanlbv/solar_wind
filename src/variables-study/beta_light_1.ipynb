{
 "cells": [
  {
   "cell_type": "code",
   "execution_count": 1,
   "metadata": {},
   "outputs": [
    {
     "name": "stdout",
     "output_type": "stream",
     "text": [
      "/Users/erwan/Programmes/2022 Datacamp/solar_wind\n"
     ]
    }
   ],
   "source": [
    "%cd .."
   ]
  },
  {
   "attachments": {},
   "cell_type": "markdown",
   "metadata": {},
   "source": [
    "### Tests d'une régression logistique et d'un histboost\n",
    "- Transformation de la base de données : base, r_small_avg, l_small_avg, diff-mean, mean-ratio \n",
    "- Base d'entraînement et de tests modifiée.\n",
    "- Pas de re-échantillonnage\n",
    "- Pré-traitement du predict après entrainement (rolling 18h center=True, modifiable)"
   ]
  },
  {
   "cell_type": "code",
   "execution_count": 2,
   "metadata": {},
   "outputs": [],
   "source": [
    "import pandas as pd\n",
    "import numpy as np\n",
    "import matplotlib.pyplot as plt\n",
    "\n",
    "from problem import get_train_data, get_test_data\n",
    "from problem import turn_prediction_to_event_list\n",
    "\n",
    "# Fonction perso\n",
    "from display import plot_event, multiple_plots, consecutive_plots, display_timeline, show_densities\n",
    "from display import display_res\n"
   ]
  },
  {
   "cell_type": "code",
   "execution_count": 3,
   "metadata": {},
   "outputs": [],
   "source": [
    "def get_fe_data(var_s):\n",
    "    \"\"\"\n",
    "    Prend data_train['Beta'] au format brut (hors seuillabge ) et renvoie la série avec les traitements\n",
    "    définis ci-dessous\n",
    "    \"\"\"\n",
    "\n",
    "    # Moyenne mobile faible sur les valeurs pour espérer réduire dors et déjà le bruit \n",
    "    var_s = var_s.rolling('30 min', center=True).mean()\n",
    "\n",
    "    # Différence entre moyenne longue et moyenne courte (mobiles) \n",
    "    # Met en avant les transitions entre états\n",
    "    var_l_2h_s = var_s.rolling('2h').mean()\n",
    "    var_r_2h_s = var_s.iloc[::-1].rolling('2h').mean().iloc[::-1]\n",
    "\n",
    "    # Ratio entre une moyenne mobile courte et une très longue\n",
    "    # Met en avant les valeurs faibles de Beta\n",
    "    var_4h_s = var_s.rolling('4h', center=True).mean()\n",
    "    var_long_s = var_s.rolling('4 d', center=True).mean()\n",
    "\n",
    "    var_l_20h_s = var_s.rolling('20h').mean()\n",
    "    var_r_20h_s = var_s.iloc[::-1].rolling('20h').mean().iloc[::-1]\n",
    "\n",
    "    df = pd.DataFrame({})\n",
    "    df['base-value'] = var_s\n",
    "\n",
    "    df['l_small_avg'] = var_l_2h_s.copy()\n",
    "    df['r_small_avg'] = var_r_2h_s.copy()\n",
    "    df['diff-mean'] = (df['r_small_avg'] - df['l_small_avg']).abs()\n",
    "\n",
    "    df['mean-ratio'] = var_4h_s / var_long_s\n",
    "\n",
    "    # Pour les tests de moyennes mobiles longues\n",
    "    # df['l_global_avg'] = var_l_20h_s.copy()\n",
    "    # df['r_global_avg'] = var_r_20h_s.copy()\n",
    "\n",
    "    return df"
   ]
  },
  {
   "cell_type": "code",
   "execution_count": 4,
   "metadata": {},
   "outputs": [],
   "source": [
    "# Données\n",
    "data_train, labels_train = get_train_data()\n",
    "data_test, labels_test = get_test_data()\n",
    "\n",
    "# Évenements\n",
    "events = turn_prediction_to_event_list(labels_train)\n",
    "no_events = turn_prediction_to_event_list(labels_train == 0)"
   ]
  },
  {
   "cell_type": "code",
   "execution_count": 5,
   "metadata": {},
   "outputs": [],
   "source": [
    "seuil = 50\n",
    "var_train_s = data_train['Beta'].copy()\n",
    "var_train_s = var_train_s.map(lambda x: min(x, seuil))\n",
    "\n",
    "var_test_s = data_test['Beta'].copy()\n",
    "var_test_s = var_test_s.map(lambda x: min(x, seuil))"
   ]
  },
  {
   "cell_type": "code",
   "execution_count": 6,
   "metadata": {},
   "outputs": [
    {
     "data": {
      "text/html": [
       "<div>\n",
       "<style scoped>\n",
       "    .dataframe tbody tr th:only-of-type {\n",
       "        vertical-align: middle;\n",
       "    }\n",
       "\n",
       "    .dataframe tbody tr th {\n",
       "        vertical-align: top;\n",
       "    }\n",
       "\n",
       "    .dataframe thead th {\n",
       "        text-align: right;\n",
       "    }\n",
       "</style>\n",
       "<table border=\"1\" class=\"dataframe\">\n",
       "  <thead>\n",
       "    <tr style=\"text-align: right;\">\n",
       "      <th></th>\n",
       "      <th>base-value</th>\n",
       "      <th>l_small_avg</th>\n",
       "      <th>r_small_avg</th>\n",
       "      <th>diff-mean</th>\n",
       "      <th>mean-ratio</th>\n",
       "    </tr>\n",
       "  </thead>\n",
       "  <tbody>\n",
       "    <tr>\n",
       "      <th>1997-10-01 00:00:00</th>\n",
       "      <td>8.395598</td>\n",
       "      <td>8.395598</td>\n",
       "      <td>9.201718</td>\n",
       "      <td>0.806121</td>\n",
       "      <td>14.461996</td>\n",
       "    </tr>\n",
       "    <tr>\n",
       "      <th>1997-10-01 00:10:00</th>\n",
       "      <td>9.571798</td>\n",
       "      <td>8.983698</td>\n",
       "      <td>8.543898</td>\n",
       "      <td>0.439800</td>\n",
       "      <td>13.486491</td>\n",
       "    </tr>\n",
       "    <tr>\n",
       "      <th>1997-10-01 00:20:00</th>\n",
       "      <td>12.369014</td>\n",
       "      <td>10.112137</td>\n",
       "      <td>7.784553</td>\n",
       "      <td>2.327584</td>\n",
       "      <td>12.637000</td>\n",
       "    </tr>\n",
       "  </tbody>\n",
       "</table>\n",
       "</div>"
      ],
      "text/plain": [
       "                     base-value  l_small_avg  r_small_avg  diff-mean  \\\n",
       "1997-10-01 00:00:00    8.395598     8.395598     9.201718   0.806121   \n",
       "1997-10-01 00:10:00    9.571798     8.983698     8.543898   0.439800   \n",
       "1997-10-01 00:20:00   12.369014    10.112137     7.784553   2.327584   \n",
       "\n",
       "                     mean-ratio  \n",
       "1997-10-01 00:00:00   14.461996  \n",
       "1997-10-01 00:10:00   13.486491  \n",
       "1997-10-01 00:20:00   12.637000  "
      ]
     },
     "execution_count": 6,
     "metadata": {},
     "output_type": "execute_result"
    }
   ],
   "source": [
    "fe_train_data = get_fe_data(var_train_s)\n",
    "fe_test_data = get_fe_data(var_test_s)\n",
    "\n",
    "fe_train_data.head(3)"
   ]
  },
  {
   "cell_type": "code",
   "execution_count": 7,
   "metadata": {},
   "outputs": [
    {
     "data": {
      "text/html": [
       "<div>\n",
       "<style scoped>\n",
       "    .dataframe tbody tr th:only-of-type {\n",
       "        vertical-align: middle;\n",
       "    }\n",
       "\n",
       "    .dataframe tbody tr th {\n",
       "        vertical-align: top;\n",
       "    }\n",
       "\n",
       "    .dataframe thead th {\n",
       "        text-align: right;\n",
       "    }\n",
       "</style>\n",
       "<table border=\"1\" class=\"dataframe\">\n",
       "  <thead>\n",
       "    <tr style=\"text-align: right;\">\n",
       "      <th></th>\n",
       "      <th>base-value</th>\n",
       "      <th>l_small_avg</th>\n",
       "      <th>r_small_avg</th>\n",
       "      <th>diff-mean</th>\n",
       "      <th>mean-ratio</th>\n",
       "    </tr>\n",
       "  </thead>\n",
       "  <tbody>\n",
       "    <tr>\n",
       "      <th>2008-01-01 00:00:00</th>\n",
       "      <td>0.903901</td>\n",
       "      <td>0.903901</td>\n",
       "      <td>0.806726</td>\n",
       "      <td>0.097175</td>\n",
       "      <td>0.402711</td>\n",
       "    </tr>\n",
       "    <tr>\n",
       "      <th>2008-01-01 00:10:00</th>\n",
       "      <td>0.895658</td>\n",
       "      <td>0.899779</td>\n",
       "      <td>0.795686</td>\n",
       "      <td>0.104094</td>\n",
       "      <td>0.404263</td>\n",
       "    </tr>\n",
       "    <tr>\n",
       "      <th>2008-01-01 00:20:00</th>\n",
       "      <td>0.839025</td>\n",
       "      <td>0.879528</td>\n",
       "      <td>0.788897</td>\n",
       "      <td>0.090631</td>\n",
       "      <td>0.413132</td>\n",
       "    </tr>\n",
       "  </tbody>\n",
       "</table>\n",
       "</div>"
      ],
      "text/plain": [
       "                     base-value  l_small_avg  r_small_avg  diff-mean  \\\n",
       "2008-01-01 00:00:00    0.903901     0.903901     0.806726   0.097175   \n",
       "2008-01-01 00:10:00    0.895658     0.899779     0.795686   0.104094   \n",
       "2008-01-01 00:20:00    0.839025     0.879528     0.788897   0.090631   \n",
       "\n",
       "                     mean-ratio  \n",
       "2008-01-01 00:00:00    0.402711  \n",
       "2008-01-01 00:10:00    0.404263  \n",
       "2008-01-01 00:20:00    0.413132  "
      ]
     },
     "execution_count": 7,
     "metadata": {},
     "output_type": "execute_result"
    }
   ],
   "source": [
    "fe_test_data.head(3)"
   ]
  },
  {
   "attachments": {},
   "cell_type": "markdown",
   "metadata": {},
   "source": [
    "### Entraînement des modèles\n",
    "- Comparaison fe_data et small_fe_data (sans les moyennes gauches et droites)"
   ]
  },
  {
   "cell_type": "code",
   "execution_count": 8,
   "metadata": {},
   "outputs": [],
   "source": [
    "from sklearn.linear_model import LogisticRegression\n",
    "from sklearn.ensemble import RandomForestClassifier, HistGradientBoostingClassifier"
   ]
  },
  {
   "cell_type": "code",
   "execution_count": 9,
   "metadata": {},
   "outputs": [],
   "source": [
    "log_model = LogisticRegression(\n",
    "    penalty=\"l2\",\n",
    "    max_iter=1000,\n",
    "    random_state=0,\n",
    "    solver='lbfgs'\n",
    ")"
   ]
  },
  {
   "cell_type": "code",
   "execution_count": 10,
   "metadata": {},
   "outputs": [
    {
     "name": "stdout",
     "output_type": "stream",
     "text": [
      "Coefs [[ 1.25639518 -6.19699049 -6.11041614  5.82282206  0.15213744]]\n",
      "Loss : 0.13417136204630736\n",
      "              precision    recall  f1-score   support\n",
      "\n",
      "           0       0.95      1.00      0.97    191755\n",
      "           1       0.94      0.21      0.35     13819\n",
      "\n",
      "    accuracy                           0.95    205574\n",
      "   macro avg       0.94      0.61      0.66    205574\n",
      "weighted avg       0.95      0.95      0.93    205574\n",
      "\n",
      "ev_prec 0.3846153846153846\n",
      "ev_rec 0.09345794392523366\n",
      "-------------\n"
     ]
    }
   ],
   "source": [
    "# ENTRAÎNEMENT SUR LA BASE DE DONNÉES AVEC R_SMALL ET L_SMALL\n",
    "# PAS DE RÉ-ÉCHANTILLONAGE SUR LA BDD\n",
    "\n",
    "log_model.fit(fe_train_data, labels_train)\n",
    "print('Coefs', log_model.coef_)\n",
    "display_res(fe_test_data, labels_test, smooth=False, models=[log_model])"
   ]
  },
  {
   "attachments": {},
   "cell_type": "markdown",
   "metadata": {},
   "source": [
    "- Les coefficients ne sont pas très important (en terme de norme), régulariser davantage ne semble pas vraiment avoir d'intérêt"
   ]
  },
  {
   "cell_type": "code",
   "execution_count": 11,
   "metadata": {},
   "outputs": [
    {
     "name": "stdout",
     "output_type": "stream",
     "text": [
      "Colonnes retirées : ['r_small_avg', 'l_small_avg']\n",
      "Colonnes restantes : ['base-value' 'diff-mean' 'mean-ratio']\n",
      "Coefs [[-5.80860613  0.49850662 -1.03068782]]\n",
      "Loss : 0.15294442311281467\n",
      "              precision    recall  f1-score   support\n",
      "\n",
      "           0       0.94      1.00      0.97    191755\n",
      "           1       1.00      0.10      0.17     13819\n",
      "\n",
      "    accuracy                           0.94    205574\n",
      "   macro avg       0.97      0.55      0.57    205574\n",
      "weighted avg       0.94      0.94      0.92    205574\n",
      "\n",
      "ev_prec 0.25\n",
      "ev_rec 0.028037383177570097\n",
      "-------------\n"
     ]
    }
   ],
   "source": [
    "# ENTRAÎNEMENT SUR LA BASE DE DONNÉES SANS R_SMALL ET L_SMALL\n",
    "# PAS DE RÉ-ÉCHANTILLONAGE SUR LA BDD\n",
    "\n",
    "drop_cols = ['r_small_avg', 'l_small_avg']\n",
    "print('Colonnes retirées :', drop_cols)\n",
    "print('Colonnes restantes :', fe_train_data.drop(columns=drop_cols).columns.values)\n",
    "log_model.fit(fe_train_data.drop(columns=drop_cols), labels_train)\n",
    "print('Coefs', log_model.coef_)\n",
    "display_res(fe_test_data.drop(columns=drop_cols), labels_test, smooth=False, models=[log_model])"
   ]
  },
  {
   "attachments": {},
   "cell_type": "markdown",
   "metadata": {},
   "source": [
    "- Comparaison avec HistBoost :"
   ]
  },
  {
   "cell_type": "code",
   "execution_count": 12,
   "metadata": {},
   "outputs": [],
   "source": [
    "histboost_model = HistGradientBoostingClassifier(\n",
    "    learning_rate=0.1,\n",
    "    max_iter=1000,\n",
    "    random_state=2\n",
    ")"
   ]
  },
  {
   "cell_type": "code",
   "execution_count": 13,
   "metadata": {},
   "outputs": [],
   "source": [
    "# ENTRAÎNEMENT SUR LA BASE DE DONNÉES AVEC R_SMALL ET L_SMALL\n",
    "# PAS DE RÉ-ÉCHANTILLONAGE SUR LA BDD\n",
    "\n",
    "histboost_model.fit(fe_train_data, labels_train)\n",
    "display_res(fe_test_data, labels_test, [histboost_model])"
   ]
  },
  {
   "cell_type": "code",
   "execution_count": 14,
   "metadata": {},
   "outputs": [
    {
     "name": "stdout",
     "output_type": "stream",
     "text": [
      "Colonnes retirées : ['r_small_avg', 'l_small_avg']\n",
      "Colonnes restantes : Index(['base-value', 'diff-mean', 'mean-ratio'], dtype='object')\n"
     ]
    }
   ],
   "source": [
    "# ENTRAÎNEMENT SUR LA BASE DE DONNÉES SANS R_SMALL ET L_SMALL\n",
    "# PAS DE RÉ-ÉCHANTILLONAGE SUR LA BDD\n",
    "\n",
    "drop_cols = ['r_small_avg', 'l_small_avg']\n",
    "print('Colonnes retirées :', drop_cols)\n",
    "print('Colonnes restantes :', fe_train_data.drop(columns=drop_cols).columns)\n",
    "histboost_model.fit(fe_train_data.drop(columns=drop_cols), labels_train)\n",
    "display_res(fe_test_data.drop(columns=drop_cols), labels_test, [histboost_model])"
   ]
  },
  {
   "cell_type": "code",
   "execution_count": null,
   "metadata": {},
   "outputs": [],
   "source": []
  }
 ],
 "metadata": {
  "kernelspec": {
   "display_name": "ml_env",
   "language": "python",
   "name": "python3"
  },
  "language_info": {
   "codemirror_mode": {
    "name": "ipython",
    "version": 3
   },
   "file_extension": ".py",
   "mimetype": "text/x-python",
   "name": "python",
   "nbconvert_exporter": "python",
   "pygments_lexer": "ipython3",
   "version": "3.9.15 (main, Nov 24 2022, 08:29:02) \n[Clang 14.0.6 ]"
  },
  "orig_nbformat": 4,
  "vscode": {
   "interpreter": {
    "hash": "c43a034baed6525e7d4b54734a34a446a6181c1bda94e67cd174d3b725a42644"
   }
  }
 },
 "nbformat": 4,
 "nbformat_minor": 2
}
