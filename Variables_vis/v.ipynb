{
 "cells": [
  {
   "cell_type": "code",
   "execution_count": 1,
   "metadata": {},
   "outputs": [
    {
     "name": "stdout",
     "output_type": "stream",
     "text": [
      "/Users/erwan/Programmes/2022 Datacamp/solar_wind\n"
     ]
    }
   ],
   "source": [
    "%cd .."
   ]
  },
  {
   "cell_type": "code",
   "execution_count": 2,
   "metadata": {},
   "outputs": [],
   "source": [
    "import pandas as pd\n",
    "import numpy as np\n",
    "\n",
    "import matplotlib.pyplot as plt\n",
    "\n",
    "from problem import get_train_data\n",
    "from problem import turn_prediction_to_event_list"
   ]
  },
  {
   "cell_type": "code",
   "execution_count": 3,
   "metadata": {},
   "outputs": [],
   "source": [
    "data_train, labels_train = get_train_data()\n",
    "events = turn_prediction_to_event_list(labels_train)"
   ]
  },
  {
   "cell_type": "code",
   "execution_count": 10,
   "metadata": {},
   "outputs": [],
   "source": [
    "def plot_event(start, end, data, delta=36, figsize=(10, 60)):\n",
    "    start = pd.to_datetime(start)\n",
    "    end = pd.to_datetime(end)\n",
    "    subset = data[(start - pd.Timedelta(hours=delta)):(end + pd.Timedelta(hours=delta))]\n",
    "    label_subset = labels_train.loc[subset.index]\n",
    "\n",
    "    n_data_cols = data.shape[1]\n",
    "\n",
    "    fig, axes = plt.subplots(nrows=n_data_cols, ncols=1, figsize=figsize, sharex=True)\n",
    "    \n",
    "    if n_data_cols == 1:\n",
    "        axes = [axes]\n",
    "\n",
    "    for ax, col in zip(axes, data.columns):\n",
    "\n",
    "        l = 0.1\n",
    "        low = np.ma.masked_where(label_subset > l, subset[col])\n",
    "        high = np.ma.masked_where(label_subset < l, subset[col])\n",
    "        \n",
    "        ax.plot(subset.index, low)\n",
    "        ax.plot(subset.index, high, color='orange')\n",
    "        ax.set_ylabel(col)\n",
    "\n",
    "\n",
    "    # add vertical lines\n",
    "    for ax in axes:\n",
    "        ax.axvline(start, color='k')\n",
    "        ax.axvline(end, color='k')\n",
    "        ax.xaxis.grid(True, which=\"minor\")\n",
    "\n",
    "    \n",
    "    return fig, axes\n",
    "    \n",
    "def consecutive_plots(data, events, n_events, delta=36, random_state=1, figsize=(10, 60)):\n",
    "    rng = np.random.RandomState(random_state)\n",
    "    random_index = rng.randint(0, len(events) - n_events)\n",
    "\n",
    "    for i in range(random_index, random_index + n_events):\n",
    "        plot_event(events[i].begin, events[i].end, data, delta=delta, figsize=figsize)\n",
    "\n",
    "def multiple_plots(data, n_events, events, delta=36, random_state=1, figsize=(10, 60)):\n",
    "    rng = np.random.RandomState(random_state)\n",
    "\n",
    "    for i in rng.randint(0, len(events), n_events):\n",
    "        plot_event(events[i].begin, events[i].end, data, delta=delta, figsize=figsize)"
   ]
  },
  {
   "cell_type": "code",
   "execution_count": 11,
   "metadata": {},
   "outputs": [],
   "source": [
    "df = data_train.copy()\n",
    "df['label'] = labels_train.copy()"
   ]
  },
  {
   "cell_type": "code",
   "execution_count": 21,
   "metadata": {},
   "outputs": [
    {
     "data": {
      "image/png": "[encoded data removed]",
      "text/plain": [
       "<Figure size 400x200 with 1 Axes>"
      ]
     },
     "metadata": {},
     "output_type": "display_data"
    },
    {
     "data": {
      "image/png": "[encoded data removed]",
      "text/plain": [
       "<Figure size 400x200 with 1 Axes>"
      ]
     },
     "metadata": {},
     "output_type": "display_data"
    }
   ],
   "source": [
    "df = df.drop(df[df['V'] > 1000].index)\n",
    "for density in [True, False]:\n",
    "    _, ax = plt.subplots(figsize=(4, 2))\n",
    "    df.groupby(['label'])['V'].plot(kind='hist', ax=ax, alpha=0.7, legend=True, density=density)"
   ]
  },
  {
   "cell_type": "code",
   "execution_count": 7,
   "metadata": {},
   "outputs": [],
   "source": [
    "storm_df = df[['V', 'label']][df['label'] == 1]\n",
    "calm_df = df[['V', 'label']][df['label'] == 0]"
   ]
  },
  {
   "cell_type": "code",
   "execution_count": 8,
   "metadata": {},
   "outputs": [
    {
     "data": {
      "text/plain": [
       "count    58478.000000\n",
       "mean       448.358734\n",
       "std        110.763908\n",
       "min         30.136427\n",
       "25%        372.916367\n",
       "50%        421.350876\n",
       "75%        495.695160\n",
       "max        998.821838\n",
       "Name: V, dtype: float64"
      ]
     },
     "execution_count": 8,
     "metadata": {},
     "output_type": "execute_result"
    }
   ],
   "source": [
    "storm_df['V'].describe()"
   ]
  },
  {
   "cell_type": "code",
   "execution_count": 9,
   "metadata": {},
   "outputs": [
    {
     "data": {
      "text/plain": [
       "count    450759.000000\n",
       "mean        445.046875\n",
       "std         109.947655\n",
       "min          27.204723\n",
       "25%         362.313751\n",
       "50%         422.078705\n",
       "75%         509.449966\n",
       "max         999.594849\n",
       "Name: V, dtype: float64"
      ]
     },
     "execution_count": 9,
     "metadata": {},
     "output_type": "execute_result"
    }
   ],
   "source": [
    "calm_df['V'].describe()"
   ]
  },
  {
   "attachments": {},
   "cell_type": "markdown",
   "metadata": {},
   "source": [
    "### V importante -> Pas de tempête"
   ]
  },
  {
   "cell_type": "code",
   "execution_count": null,
   "metadata": {},
   "outputs": [],
   "source": []
  }
 ],
 "metadata": {
  "kernelspec": {
   "display_name": "ml_env",
   "language": "python",
   "name": "python3"
  },
  "language_info": {
   "codemirror_mode": {
    "name": "ipython",
    "version": 3
   },
   "file_extension": ".py",
   "mimetype": "text/x-python",
   "name": "python",
   "nbconvert_exporter": "python",
   "pygments_lexer": "ipython3",
   "version": "3.9.15"
  },
  "orig_nbformat": 4,
  "vscode": {
   "interpreter": {
    "hash": "c43a034baed6525e7d4b54734a34a446a6181c1bda94e67cd174d3b725a42644"
   }
  }
 },
 "nbformat": 4,
 "nbformat_minor": 2
}
