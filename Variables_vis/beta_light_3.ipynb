{
 "cells": [
  {
   "cell_type": "code",
   "execution_count": 1,
   "metadata": {},
   "outputs": [
    {
     "name": "stdout",
     "output_type": "stream",
     "text": [
      "/Users/erwan/Programmes/2022 Datacamp/solar_wind\n"
     ]
    }
   ],
   "source": [
    "%cd .."
   ]
  },
  {
   "attachments": {},
   "cell_type": "markdown",
   "metadata": {},
   "source": [
    "#### Tests Régression Logistique et HistBoosts sur une base de données ré-échantillonnée\n",
    "- __But__ : Observer les performances sur une base de données \"plus\" équilibrée\n",
    "- Toutes les variables retenues dans le pré-traitement de beta_light_1 sont utilisées\n",
    "- Le predict utilise un rolling (modifiable avec le paramètre smooth)"
   ]
  },
  {
   "cell_type": "code",
   "execution_count": 2,
   "metadata": {},
   "outputs": [],
   "source": [
    "import pandas as pd\n",
    "import numpy as np\n",
    "import matplotlib.pyplot as plt\n",
    "\n",
    "from problem import get_train_data, get_test_data\n",
    "from problem import turn_prediction_to_event_list\n",
    "\n",
    "# Fonction perso\n",
    "from display import plot_event, multiple_plots, consecutive_plots, display_timeline, show_densities\n",
    "from display import display_res\n"
   ]
  },
  {
   "cell_type": "code",
   "execution_count": 3,
   "metadata": {},
   "outputs": [],
   "source": [
    "def get_fe_data(data):\n",
    "    \"\"\"\n",
    "    Prend data_train['Beta'] au format brut (hors seuillabge ) et renvoie la série avec les traitements\n",
    "    définis ci-dessous\n",
    "    \"\"\"\n",
    "\n",
    "    # Moyenne mobile faible sur les valeurs pour espérer réduire dors et déjà le bruit \n",
    "    seuil = 50\n",
    "    var_s = data.map(lambda x: min(x, seuil))\n",
    "    var_s = var_s.rolling('30 min', center=True).mean()\n",
    "\n",
    "    # Différence entre moyenne longue et moyenne courte (mobiles) \n",
    "    # Met en avant les transitions entre états\n",
    "    var_l_2h_s = var_s.rolling('2h').mean()\n",
    "    var_r_2h_s = var_s.iloc[::-1].rolling('2h').mean().iloc[::-1]\n",
    "\n",
    "    # Ratio entre une moyenne mobile courte et une très longue\n",
    "    # Met en avant les valeurs faibles de Beta\n",
    "    var_4h_s = var_s.rolling('4h', center=True).mean()\n",
    "    var_long_s = var_s.rolling('4 d', center=True).mean()\n",
    "\n",
    "    var_l_20h_s = var_s.rolling('20h').mean()\n",
    "    var_r_20h_s = var_s.iloc[::-1].rolling('20h').mean().iloc[::-1]\n",
    "\n",
    "    df = pd.DataFrame({})\n",
    "    df['base-value'] = var_s\n",
    "\n",
    "    df['l_small_avg'] = var_l_2h_s.copy()\n",
    "    df['r_small_avg'] = var_r_2h_s.copy()\n",
    "    df['diff-mean'] = (df['r_small_avg'] - df['l_small_avg']).abs()\n",
    "\n",
    "    df['mean-ratio'] = var_4h_s / var_long_s\n",
    "\n",
    "    return df"
   ]
  },
  {
   "cell_type": "code",
   "execution_count": 4,
   "metadata": {},
   "outputs": [],
   "source": [
    "# Données\n",
    "data_train, labels_train = get_train_data()\n",
    "data_test, labels_test = get_test_data()\n",
    "\n",
    "# Évenements\n",
    "events = turn_prediction_to_event_list(labels_train)\n",
    "no_events = turn_prediction_to_event_list(labels_train == 0)"
   ]
  },
  {
   "cell_type": "code",
   "execution_count": 9,
   "metadata": {},
   "outputs": [
    {
     "data": {
      "text/html": [
       "<div>\n",
       "<style scoped>\n",
       "    .dataframe tbody tr th:only-of-type {\n",
       "        vertical-align: middle;\n",
       "    }\n",
       "\n",
       "    .dataframe tbody tr th {\n",
       "        vertical-align: top;\n",
       "    }\n",
       "\n",
       "    .dataframe thead th {\n",
       "        text-align: right;\n",
       "    }\n",
       "</style>\n",
       "<table border=\"1\" class=\"dataframe\">\n",
       "  <thead>\n",
       "    <tr style=\"text-align: right;\">\n",
       "      <th></th>\n",
       "      <th>base-value</th>\n",
       "      <th>l_small_avg</th>\n",
       "      <th>r_small_avg</th>\n",
       "      <th>diff-mean</th>\n",
       "      <th>mean-ratio</th>\n",
       "    </tr>\n",
       "  </thead>\n",
       "  <tbody>\n",
       "    <tr>\n",
       "      <th>1997-10-01 00:00:00</th>\n",
       "      <td>8.395598</td>\n",
       "      <td>8.395598</td>\n",
       "      <td>9.201718</td>\n",
       "      <td>0.806121</td>\n",
       "      <td>14.461996</td>\n",
       "    </tr>\n",
       "    <tr>\n",
       "      <th>1997-10-01 00:50:00</th>\n",
       "      <td>14.377697</td>\n",
       "      <td>11.763342</td>\n",
       "      <td>4.731365</td>\n",
       "      <td>7.031977</td>\n",
       "      <td>10.622299</td>\n",
       "    </tr>\n",
       "    <tr>\n",
       "      <th>1997-10-01 01:10:00</th>\n",
       "      <td>11.088533</td>\n",
       "      <td>11.780372</td>\n",
       "      <td>2.586794</td>\n",
       "      <td>9.193578</td>\n",
       "      <td>9.632399</td>\n",
       "    </tr>\n",
       "    <tr>\n",
       "      <th>1997-10-01 01:40:00</th>\n",
       "      <td>2.965246</td>\n",
       "      <td>9.972490</td>\n",
       "      <td>0.779794</td>\n",
       "      <td>9.192696</td>\n",
       "      <td>8.441518</td>\n",
       "    </tr>\n",
       "    <tr>\n",
       "      <th>1997-10-01 02:00:00</th>\n",
       "      <td>0.501750</td>\n",
       "      <td>8.543898</td>\n",
       "      <td>0.566436</td>\n",
       "      <td>7.977462</td>\n",
       "      <td>7.601529</td>\n",
       "    </tr>\n",
       "    <tr>\n",
       "      <th>1997-10-01 02:40:00</th>\n",
       "      <td>0.528090</td>\n",
       "      <td>4.731365</td>\n",
       "      <td>0.622356</td>\n",
       "      <td>4.109009</td>\n",
       "      <td>4.507745</td>\n",
       "    </tr>\n",
       "  </tbody>\n",
       "</table>\n",
       "</div>"
      ],
      "text/plain": [
       "                     base-value  l_small_avg  r_small_avg  diff-mean  \\\n",
       "1997-10-01 00:00:00    8.395598     8.395598     9.201718   0.806121   \n",
       "1997-10-01 00:50:00   14.377697    11.763342     4.731365   7.031977   \n",
       "1997-10-01 01:10:00   11.088533    11.780372     2.586794   9.193578   \n",
       "1997-10-01 01:40:00    2.965246     9.972490     0.779794   9.192696   \n",
       "1997-10-01 02:00:00    0.501750     8.543898     0.566436   7.977462   \n",
       "1997-10-01 02:40:00    0.528090     4.731365     0.622356   4.109009   \n",
       "\n",
       "                     mean-ratio  \n",
       "1997-10-01 00:00:00   14.461996  \n",
       "1997-10-01 00:50:00   10.622299  \n",
       "1997-10-01 01:10:00    9.632399  \n",
       "1997-10-01 01:40:00    8.441518  \n",
       "1997-10-01 02:00:00    7.601529  \n",
       "1997-10-01 02:40:00    4.507745  "
      ]
     },
     "execution_count": 9,
     "metadata": {},
     "output_type": "execute_result"
    }
   ],
   "source": [
    "fe_train_data = get_fe_data(data_train['Beta'])\n",
    "fe_test_data = get_fe_data(data_test['Beta'])\n",
    "\n",
    "# Ré-échantillone pour augmenter la proportion de 1\n",
    "drop_fe_train = fe_train_data[labels_train == 0].sample(frac=0.6, random_state=1)\n",
    "\n",
    "reduce_fe_data_train = fe_train_data.drop(drop_fe_train.index)\n",
    "reduce_fe_labels_train = labels_train[reduce_fe_data_train.index]\n",
    "\n",
    "reduce_fe_data_train.head(6)"
   ]
  },
  {
   "cell_type": "code",
   "execution_count": 6,
   "metadata": {},
   "outputs": [],
   "source": [
    "from sklearn.linear_model import LogisticRegression\n",
    "from sklearn.ensemble import RandomForestClassifier, HistGradientBoostingClassifier"
   ]
  },
  {
   "cell_type": "code",
   "execution_count": 7,
   "metadata": {},
   "outputs": [
    {
     "name": "stdout",
     "output_type": "stream",
     "text": [
      "Colonnes :  ['base-value', 'mean-ratio', 'diff-mean', 'l_small_avg', 'r_small_avg']\n",
      "Coefs : [[ 1.27625424  0.27614672  5.50891476 -5.87439751 -5.85802273]]\n",
      "Loss : 0.17030031958611996\n",
      "              precision    recall  f1-score   support\n",
      "\n",
      "           0       0.98      0.96      0.97    191755\n",
      "           1       0.56      0.68      0.61     13819\n",
      "\n",
      "    accuracy                           0.94    205574\n",
      "   macro avg       0.77      0.82      0.79    205574\n",
      "weighted avg       0.95      0.94      0.94    205574\n",
      "\n",
      "ev_prec 0.2987012987012987\n",
      "ev_rec 0.6542056074766356\n",
      "-------------\n"
     ]
    }
   ],
   "source": [
    "cols = ['base-value', 'mean-ratio', 'diff-mean', 'l_small_avg', 'r_small_avg']\n",
    "\n",
    "log_model = LogisticRegression(\n",
    "    penalty='l2',\n",
    "    max_iter=1000,\n",
    "    random_state=0,\n",
    ")\n",
    "\n",
    "print(\"Colonnes : \", cols)\n",
    "log_model.fit(reduce_fe_data_train[cols], reduce_fe_labels_train)\n",
    "print('Coefs :', log_model.coef_)\n",
    "display_res(fe_test_data[cols], labels_test, smooth=True, models=[log_model])"
   ]
  },
  {
   "cell_type": "code",
   "execution_count": 8,
   "metadata": {},
   "outputs": [
    {
     "name": "stdout",
     "output_type": "stream",
     "text": [
      "Colonnes :  ['base-value', 'mean-ratio', 'diff-mean', 'l_small_avg', 'r_small_avg']\n",
      "Loss : 0.14957351567945368\n",
      "              precision    recall  f1-score   support\n",
      "\n",
      "           0       0.97      0.97      0.97    191755\n",
      "           1       0.60      0.64      0.62     13819\n",
      "\n",
      "    accuracy                           0.95    205574\n",
      "   macro avg       0.78      0.80      0.79    205574\n",
      "weighted avg       0.95      0.95      0.95    205574\n",
      "\n",
      "ev_prec 0.3037383177570093\n",
      "ev_rec 0.6168224299065421\n",
      "-------------\n"
     ]
    }
   ],
   "source": [
    "cols = ['base-value', 'mean-ratio', 'diff-mean', 'l_small_avg', 'r_small_avg']\n",
    "\n",
    "histboost_model = HistGradientBoostingClassifier(\n",
    "    max_iter=1000,\n",
    "    random_state=0,\n",
    ")\n",
    "\n",
    "print(\"Colonnes : \", cols)\n",
    "histboost_model.fit(reduce_fe_data_train[cols], reduce_fe_labels_train)\n",
    "display_res(fe_test_data[cols], labels_test, smooth=True, models=[histboost_model])"
   ]
  }
 ],
 "metadata": {
  "kernelspec": {
   "display_name": "ml_env",
   "language": "python",
   "name": "python3"
  },
  "language_info": {
   "codemirror_mode": {
    "name": "ipython",
    "version": 3
   },
   "file_extension": ".py",
   "mimetype": "text/x-python",
   "name": "python",
   "nbconvert_exporter": "python",
   "pygments_lexer": "ipython3",
   "version": "3.9.15 (main, Nov 24 2022, 08:29:02) \n[Clang 14.0.6 ]"
  },
  "orig_nbformat": 4,
  "vscode": {
   "interpreter": {
    "hash": "c43a034baed6525e7d4b54734a34a446a6181c1bda94e67cd174d3b725a42644"
   }
  }
 },
 "nbformat": 4,
 "nbformat_minor": 2
}
