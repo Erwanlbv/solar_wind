{
 "cells": [
  {
   "cell_type": "code",
   "execution_count": 2,
   "metadata": {},
   "outputs": [
    {
     "name": "stdout",
     "output_type": "stream",
     "text": [
      "/Users/erwan/Programmes/2022 Datacamp/solar_wind\n"
     ]
    }
   ],
   "source": [
    "%cd .."
   ]
  },
  {
   "cell_type": "code",
   "execution_count": 3,
   "metadata": {},
   "outputs": [],
   "source": [
    "import pandas as pd\n",
    "import numpy as np\n",
    "import matplotlib.pyplot as plt\n",
    "\n",
    "from problem import get_train_data\n",
    "from problem import turn_prediction_to_event_list"
   ]
  },
  {
   "cell_type": "code",
   "execution_count": 4,
   "metadata": {},
   "outputs": [],
   "source": [
    "data_train, labels_train = get_train_data()\n",
    "events = turn_prediction_to_event_list(labels_train)"
   ]
  },
  {
   "cell_type": "code",
   "execution_count": 5,
   "metadata": {},
   "outputs": [],
   "source": [
    "def plot_event(start, end, data, delta=36, figsize=(10, 60)):\n",
    "    start = pd.to_datetime(start)\n",
    "    end = pd.to_datetime(end)\n",
    "    subset = data[(start - pd.Timedelta(hours=delta)):(end + pd.Timedelta(hours=delta))]\n",
    "    label_subset = labels_train.loc[subset.index]\n",
    "\n",
    "    n_data_cols = data.shape[1]\n",
    "\n",
    "    fig, axes = plt.subplots(nrows=n_data_cols, ncols=1, figsize=figsize, sharex=True)\n",
    "    \n",
    "    if n_data_cols == 1:\n",
    "        axes = [axes]\n",
    "\n",
    "    for ax, col in zip(axes, data.columns):\n",
    "\n",
    "        l = 0.1\n",
    "        low = np.ma.masked_where(label_subset > l, subset[col])\n",
    "        high = np.ma.masked_where(label_subset < l, subset[col])\n",
    "        \n",
    "        ax.plot(subset.index, low)\n",
    "        ax.plot(subset.index, high, color='orange')\n",
    "        ax.set_ylabel(col)\n",
    "\n",
    "\n",
    "    # add vertical lines\n",
    "    for ax in axes:\n",
    "        ax.axvline(start, color='k')\n",
    "        ax.axvline(end, color='k')\n",
    "        ax.xaxis.grid(True, which=\"minor\")\n",
    "\n",
    "    \n",
    "    return fig, axes\n",
    "    \n",
    "def consecutive_plots(data, events, n_events, delta=36, random_state=1, figsize=(10, 60)):\n",
    "    rng = np.random.RandomState(random_state)\n",
    "    random_index = rng.randint(0, len(events) - n_events)\n",
    "\n",
    "    for i in range(random_index, random_index + n_events):\n",
    "        plot_event(events[i].begin, events[i].end, data, delta=delta, figsize=figsize)\n",
    "\n",
    "def multiple_plots(data, n_events, events, delta=36, random_state=1, figsize=(10, 60)):\n",
    "    rng = np.random.RandomState(random_state)\n",
    "\n",
    "    for i in rng.randint(0, len(events), n_events):\n",
    "        plot_event(events[i].begin, events[i].end, data, delta=delta, figsize=figsize)"
   ]
  },
  {
   "cell_type": "code",
   "execution_count": 6,
   "metadata": {},
   "outputs": [],
   "source": [
    "df = data_train.copy()\n",
    "df['label'] = labels_train"
   ]
  },
  {
   "cell_type": "code",
   "execution_count": 7,
   "metadata": {},
   "outputs": [],
   "source": [
    "var = 'B'\n",
    "small_df = df[[var, 'label']].copy()\n",
    "storm_df = df[[var, 'label']][df['label'] == 1]\n",
    "calm_df = df[[var, 'label']][df['label'] == 0]"
   ]
  },
  {
   "cell_type": "code",
   "execution_count": 8,
   "metadata": {},
   "outputs": [
    {
     "data": {
      "text/plain": [
       "count    509834.000000\n",
       "mean          6.618241\n",
       "std           6.590113\n",
       "min           0.265439\n",
       "25%           4.274620\n",
       "50%           5.659535\n",
       "75%           7.691845\n",
       "max        1419.378296\n",
       "Name: B, dtype: float64"
      ]
     },
     "execution_count": 8,
     "metadata": {},
     "output_type": "execute_result"
    }
   ],
   "source": [
    "small_df[var].describe()"
   ]
  },
  {
   "cell_type": "code",
   "execution_count": 9,
   "metadata": {},
   "outputs": [
    {
     "data": {
      "text/plain": [
       "count    451269.000000\n",
       "mean          6.267040\n",
       "std           6.701846\n",
       "min           0.265439\n",
       "25%           4.136053\n",
       "50%           5.428955\n",
       "75%           7.214952\n",
       "max        1419.378296\n",
       "Name: B, dtype: float64"
      ]
     },
     "execution_count": 9,
     "metadata": {},
     "output_type": "execute_result"
    }
   ],
   "source": [
    "calm_df[var].describe()"
   ]
  },
  {
   "cell_type": "code",
   "execution_count": 10,
   "metadata": {},
   "outputs": [
    {
     "data": {
      "text/plain": [
       "count    58565.000000\n",
       "mean         9.324401\n",
       "std          4.869556\n",
       "min          1.033130\n",
       "25%          6.239811\n",
       "50%          8.273197\n",
       "75%         10.933852\n",
       "max         56.476120\n",
       "Name: B, dtype: float64"
      ]
     },
     "execution_count": 10,
     "metadata": {},
     "output_type": "execute_result"
    }
   ],
   "source": [
    "storm_df[var].describe()"
   ]
  },
  {
   "cell_type": "code",
   "execution_count": 11,
   "metadata": {},
   "outputs": [
    {
     "data": {
      "text/plain": [
       "145"
      ]
     },
     "execution_count": 11,
     "metadata": {},
     "output_type": "execute_result"
    }
   ],
   "source": [
    "calm_df['B'][calm_df['B'] > 100].count()"
   ]
  },
  {
   "cell_type": "code",
   "execution_count": 12,
   "metadata": {},
   "outputs": [
    {
     "data": {
      "text/plain": [
       "label\n",
       "0    AxesSubplot(0.125,0.11;0.775x0.77)\n",
       "1    AxesSubplot(0.125,0.11;0.775x0.77)\n",
       "Name: B, dtype: object"
      ]
     },
     "execution_count": 12,
     "metadata": {},
     "output_type": "execute_result"
    },
    {
     "data": {
      "image/png": "[encoded data removed]",
      "text/plain": [
       "<Figure size 400x200 with 1 Axes>"
      ]
     },
     "metadata": {},
     "output_type": "display_data"
    }
   ],
   "source": [
    "_, ax = plt.subplots(figsize=(4, 2))\n",
    "ax.set_title('Histrogramme des valeurs de ' + var, fontsize=8)\n",
    "plt.xlabel('Valeurs')\n",
    "\n",
    "# small_df = small_df.drop(small_df[small_df[var] < 100].index)\n",
    "small_df.groupby(['label'])[var].plot.hist(ax=ax, alpha=0.7, legend=True, density=True, logx=True)"
   ]
  },
  {
   "cell_type": "code",
   "execution_count": 16,
   "metadata": {},
   "outputs": [],
   "source": [
    "pdyn_s = data_train['Pdyn'].copy()"
   ]
  },
  {
   "cell_type": "code",
   "execution_count": 22,
   "metadata": {},
   "outputs": [],
   "source": [
    "n_iter = 10000\n",
    "start = 0\n",
    "\n",
    "frac_pdyn_s = pdyn_s.iloc[:n_iter]\n",
    "frac_label = labels_train[:n_iter]"
   ]
  },
  {
   "cell_type": "code",
   "execution_count": 26,
   "metadata": {},
   "outputs": [],
   "source": [
    "frac_pdyn_s[frac_pdyn_s > 0.3 * 1e-13] = 0.3 * 1e-13"
   ]
  },
  {
   "cell_type": "code",
   "execution_count": 27,
   "metadata": {},
   "outputs": [
    {
     "data": {
      "text/plain": [
       "[<matplotlib.lines.Line2D at 0x7ffd18905790>]"
      ]
     },
     "execution_count": 27,
     "metadata": {},
     "output_type": "execute_result"
    },
    {
     "data": {
      "image/png": "[encoded data removed]",
      "text/plain": [
       "<Figure size 1000x300 with 1 Axes>"
      ]
     },
     "metadata": {},
     "output_type": "display_data"
    }
   ],
   "source": [
    "l = 0.1\n",
    "low = np.ma.masked_where(frac_label, frac_pdyn_s)\n",
    "high = np.ma.masked_where(frac_label < l, frac_pdyn_s)\n",
    "# print('Max of the subset for ', col, subset[col].max())\n",
    "\n",
    "fig, ax = plt.subplots(figsize=(10, 3))\n",
    "ax.set_title('Beta variation')\n",
    "\n",
    "ax.plot(frac_pdyn_s.index, low)\n",
    "ax.plot(frac_pdyn_s.index, high, color='orange')\n"
   ]
  },
  {
   "cell_type": "code",
   "execution_count": null,
   "metadata": {},
   "outputs": [],
   "source": []
  }
 ],
 "metadata": {
  "kernelspec": {
   "display_name": "ml_env",
   "language": "python",
   "name": "python3"
  },
  "language_info": {
   "codemirror_mode": {
    "name": "ipython",
    "version": 3
   },
   "file_extension": ".py",
   "mimetype": "text/x-python",
   "name": "python",
   "nbconvert_exporter": "python",
   "pygments_lexer": "ipython3",
   "version": "3.9.15 (main, Nov 24 2022, 08:29:02) \n[Clang 14.0.6 ]"
  },
  "orig_nbformat": 4,
  "vscode": {
   "interpreter": {
    "hash": "c43a034baed6525e7d4b54734a34a446a6181c1bda94e67cd174d3b725a42644"
   }
  }
 },
 "nbformat": 4,
 "nbformat_minor": 2
}
